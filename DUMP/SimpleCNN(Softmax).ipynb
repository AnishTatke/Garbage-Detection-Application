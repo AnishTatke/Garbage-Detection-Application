{
 "cells": [
  {
   "cell_type": "code",
   "execution_count": 2,
   "metadata": {},
   "outputs": [],
   "source": [
    "import tensorflow as tf\n",
    "from tensorflow.keras.models import Sequential\n",
    "from tensorflow.keras.layers import Dense, Dropout, Activation, Flatten, Conv2D, MaxPooling2D\n",
    "import time\n",
    "from tensorflow.keras.preprocessing import image\n",
    "from tensorflow.keras.preprocessing.image import ImageDataGenerator"
   ]
  },
  {
   "cell_type": "code",
   "execution_count": 3,
   "metadata": {},
   "outputs": [
    {
     "name": "stdout",
     "output_type": "stream",
     "text": [
      "Found 2454 images belonging to 2 classes.\n",
      "Found 490 images belonging to 2 classes.\n"
     ]
    }
   ],
   "source": [
    "train_path = 'C:/Users/admin/Documents/Material/BTECH PROJECT/Dump/GINI/spotgarbage-GINI/spotgarbage/images'\n",
    "img_size = 128\n",
    "\n",
    "train_datagen = ImageDataGenerator(rescale = 1./255,\n",
    "                                   shear_range = 0.2,\n",
    "                                   zoom_range = 0.2,\n",
    "                                   horizontal_flip = True)\n",
    "test_datagen = ImageDataGenerator(rescale = 1./255,validation_split=0.2)\n",
    "training_set = train_datagen.flow_from_directory(train_path,\n",
    "                                                 target_size = (img_size, img_size),\n",
    "                                                 batch_size = 32,\n",
    "                                                 class_mode ='categorical',subset='training')\n",
    "test_set = test_datagen.flow_from_directory(train_path,\n",
    "                                            target_size = (img_size, img_size),\n",
    "                                            batch_size = 32,\n",
    "                                            class_mode ='categorical',subset='validation')"
   ]
  },
  {
   "cell_type": "code",
   "execution_count": 4,
   "metadata": {},
   "outputs": [],
   "source": [
    "model = Sequential()\n",
    "\n",
    "model.add(Conv2D(filters=32, kernel_size=3, activation='relu', input_shape=[img_size, img_size, 3]))\n",
    "model.add(Activation('relu'))\n",
    "model.add(MaxPooling2D(pool_size = (2, 2)))\n",
    "\n",
    "model.add(Conv2D(64, (3, 3))) \n",
    "model.add(Activation('relu'))\n",
    "model.add(MaxPooling2D(pool_size = (2, 2)))\n",
    "\n",
    "model.add(Flatten())\n",
    "\n",
    "model.add(Dense(128))\n",
    "model.add(Activation('relu'))\n",
    "\n",
    "model.add(Dense(32))\n",
    "model.add(Activation('relu'))\n",
    "\n",
    "model.add(Dense(2))\n",
    "model.add(Activation('softmax'))"
   ]
  },
  {
   "cell_type": "code",
   "execution_count": 5,
   "metadata": {},
   "outputs": [
    {
     "name": "stdout",
     "output_type": "stream",
     "text": [
      "Model: \"sequential\"\n",
      "_________________________________________________________________\n",
      "Layer (type)                 Output Shape              Param #   \n",
      "=================================================================\n",
      "conv2d (Conv2D)              (None, 126, 126, 32)      896       \n",
      "_________________________________________________________________\n",
      "activation (Activation)      (None, 126, 126, 32)      0         \n",
      "_________________________________________________________________\n",
      "max_pooling2d (MaxPooling2D) (None, 63, 63, 32)        0         \n",
      "_________________________________________________________________\n",
      "conv2d_1 (Conv2D)            (None, 61, 61, 64)        18496     \n",
      "_________________________________________________________________\n",
      "activation_1 (Activation)    (None, 61, 61, 64)        0         \n",
      "_________________________________________________________________\n",
      "max_pooling2d_1 (MaxPooling2 (None, 30, 30, 64)        0         \n",
      "_________________________________________________________________\n",
      "flatten (Flatten)            (None, 57600)             0         \n",
      "_________________________________________________________________\n",
      "dense (Dense)                (None, 128)               7372928   \n",
      "_________________________________________________________________\n",
      "activation_2 (Activation)    (None, 128)               0         \n",
      "_________________________________________________________________\n",
      "dense_1 (Dense)              (None, 32)                4128      \n",
      "_________________________________________________________________\n",
      "activation_3 (Activation)    (None, 32)                0         \n",
      "_________________________________________________________________\n",
      "dense_2 (Dense)              (None, 2)                 66        \n",
      "_________________________________________________________________\n",
      "activation_4 (Activation)    (None, 2)                 0         \n",
      "=================================================================\n",
      "Total params: 7,396,514\n",
      "Trainable params: 7,396,514\n",
      "Non-trainable params: 0\n",
      "_________________________________________________________________\n"
     ]
    }
   ],
   "source": [
    "model.summary()"
   ]
  },
  {
   "cell_type": "code",
   "execution_count": 6,
   "metadata": {},
   "outputs": [],
   "source": [
    "model.compile(loss = 'categorical_crossentropy', optimizer = 'adam', metrics = ['accuracy'])"
   ]
  },
  {
   "cell_type": "code",
   "execution_count": 7,
   "metadata": {},
   "outputs": [
    {
     "name": "stdout",
     "output_type": "stream",
     "text": [
      "Epoch 1/30\n",
      "77/77 [==============================] - 208s 2s/step - loss: 0.7277 - accuracy: 0.6211 - val_loss: 0.6048 - val_accuracy: 0.6531\n",
      "Epoch 2/30\n",
      "77/77 [==============================] - 134s 2s/step - loss: 0.5770 - accuracy: 0.6826 - val_loss: 0.5719 - val_accuracy: 0.6918\n",
      "Epoch 3/30\n",
      "77/77 [==============================] - 123s 2s/step - loss: 0.5481 - accuracy: 0.7104 - val_loss: 0.4685 - val_accuracy: 0.7939\n",
      "Epoch 4/30\n",
      "77/77 [==============================] - 110s 1s/step - loss: 0.4751 - accuracy: 0.7739 - val_loss: 0.4710 - val_accuracy: 0.7755\n",
      "Epoch 5/30\n",
      "77/77 [==============================] - 109s 1s/step - loss: 0.4449 - accuracy: 0.7922 - val_loss: 0.4190 - val_accuracy: 0.8061\n",
      "Epoch 6/30\n",
      "77/77 [==============================] - 108s 1s/step - loss: 0.4513 - accuracy: 0.7883 - val_loss: 0.4265 - val_accuracy: 0.8041\n",
      "Epoch 7/30\n",
      "77/77 [==============================] - 115s 1s/step - loss: 0.4015 - accuracy: 0.8201 - val_loss: 0.3924 - val_accuracy: 0.8163\n",
      "Epoch 8/30\n",
      "77/77 [==============================] - 105s 1s/step - loss: 0.3877 - accuracy: 0.8263 - val_loss: 0.3614 - val_accuracy: 0.8408\n",
      "Epoch 9/30\n",
      "77/77 [==============================] - 95s 1s/step - loss: 0.3595 - accuracy: 0.8496 - val_loss: 0.3577 - val_accuracy: 0.8429\n",
      "Epoch 10/30\n",
      "77/77 [==============================] - 99s 1s/step - loss: 0.3417 - accuracy: 0.8545 - val_loss: 0.3877 - val_accuracy: 0.8388\n",
      "Epoch 11/30\n",
      "77/77 [==============================] - 94s 1s/step - loss: 0.3211 - accuracy: 0.8682 - val_loss: 0.3772 - val_accuracy: 0.8347\n",
      "Epoch 12/30\n",
      "77/77 [==============================] - 93s 1s/step - loss: 0.2973 - accuracy: 0.8670 - val_loss: 0.2711 - val_accuracy: 0.8918\n",
      "Epoch 13/30\n",
      "77/77 [==============================] - 98s 1s/step - loss: 0.2971 - accuracy: 0.8677 - val_loss: 0.2491 - val_accuracy: 0.8796\n",
      "Epoch 14/30\n",
      "77/77 [==============================] - 98s 1s/step - loss: 0.2788 - accuracy: 0.8848 - val_loss: 0.2082 - val_accuracy: 0.9204\n",
      "Epoch 15/30\n",
      "77/77 [==============================] - 96s 1s/step - loss: 0.2374 - accuracy: 0.9020 - val_loss: 0.1831 - val_accuracy: 0.9286\n",
      "Epoch 16/30\n",
      "77/77 [==============================] - 102s 1s/step - loss: 0.2423 - accuracy: 0.9051 - val_loss: 0.2055 - val_accuracy: 0.9245\n",
      "Epoch 17/30\n",
      "77/77 [==============================] - 106s 1s/step - loss: 0.2166 - accuracy: 0.9252 - val_loss: 0.1755 - val_accuracy: 0.9469\n",
      "Epoch 18/30\n",
      "77/77 [==============================] - 84s 1s/step - loss: 0.1820 - accuracy: 0.9276 - val_loss: 0.1435 - val_accuracy: 0.9510\n",
      "Epoch 19/30\n",
      "77/77 [==============================] - 70s 917ms/step - loss: 0.1857 - accuracy: 0.9250 - val_loss: 0.1432 - val_accuracy: 0.9531\n",
      "Epoch 20/30\n",
      "77/77 [==============================] - 72s 941ms/step - loss: 0.2151 - accuracy: 0.9124 - val_loss: 0.1723 - val_accuracy: 0.9429\n",
      "Epoch 21/30\n",
      "77/77 [==============================] - 69s 891ms/step - loss: 0.1921 - accuracy: 0.9231 - val_loss: 0.2167 - val_accuracy: 0.9082\n",
      "Epoch 22/30\n",
      "77/77 [==============================] - 69s 891ms/step - loss: 0.1697 - accuracy: 0.9327 - val_loss: 0.1833 - val_accuracy: 0.9327\n",
      "Epoch 23/30\n",
      "77/77 [==============================] - 69s 893ms/step - loss: 0.1436 - accuracy: 0.9382 - val_loss: 0.1214 - val_accuracy: 0.9449\n",
      "Epoch 24/30\n",
      "77/77 [==============================] - 69s 902ms/step - loss: 0.1207 - accuracy: 0.9567 - val_loss: 0.1725 - val_accuracy: 0.9408\n",
      "Epoch 25/30\n",
      "77/77 [==============================] - 69s 893ms/step - loss: 0.1112 - accuracy: 0.9609 - val_loss: 0.0828 - val_accuracy: 0.9592\n",
      "Epoch 26/30\n",
      "77/77 [==============================] - 69s 896ms/step - loss: 0.1102 - accuracy: 0.9592 - val_loss: 0.1411 - val_accuracy: 0.9449\n",
      "Epoch 27/30\n",
      "77/77 [==============================] - 72s 934ms/step - loss: 0.1135 - accuracy: 0.9560 - val_loss: 0.1246 - val_accuracy: 0.9367\n",
      "Epoch 28/30\n",
      "77/77 [==============================] - 71s 921ms/step - loss: 0.1041 - accuracy: 0.9620 - val_loss: 0.2029 - val_accuracy: 0.9327\n",
      "Epoch 29/30\n",
      "77/77 [==============================] - 71s 905ms/step - loss: 0.1338 - accuracy: 0.9509 - val_loss: 0.0676 - val_accuracy: 0.9653\n",
      "Epoch 30/30\n",
      "77/77 [==============================] - 71s 919ms/step - loss: 0.0895 - accuracy: 0.9676 - val_loss: 0.0455 - val_accuracy: 0.9837\n"
     ]
    }
   ],
   "source": [
    "model_details=model.fit(x=training_set, validation_data=test_set, batch_size = 32, epochs = 30, steps_per_epoch=len(training_set),validation_steps=len(test_set))"
   ]
  },
  {
   "cell_type": "code",
   "execution_count": 8,
   "metadata": {},
   "outputs": [],
   "source": [
    "loss = model_details.history['loss']\n",
    "validation_loss = model_details.history['val_loss']"
   ]
  },
  {
   "cell_type": "code",
   "execution_count": 9,
   "metadata": {},
   "outputs": [],
   "source": [
    "accuracy = model_details.history['accuracy']\n",
    "validation_accuracy = model_details.history['val_accuracy']"
   ]
  },
  {
   "cell_type": "code",
   "execution_count": 10,
   "metadata": {},
   "outputs": [],
   "source": [
    "import matplotlib.pyplot as plt\n",
    "%matplotlib inline"
   ]
  },
  {
   "cell_type": "code",
   "execution_count": 11,
   "metadata": {},
   "outputs": [
    {
     "data": {
      "text/plain": [
       "<matplotlib.legend.Legend at 0x25cba6ef648>"
      ]
     },
     "execution_count": 11,
     "metadata": {},
     "output_type": "execute_result"
    },
    {
     "data": {
      "image/png": "[encoded data removed]",
      "text/plain": [
       "<Figure size 720x432 with 1 Axes>"
      ]
     },
     "metadata": {
      "needs_background": "light"
     },
     "output_type": "display_data"
    }
   ],
   "source": [
    "# plot the training and validation losses\n",
    "epochs = range(1, len(loss)+1)\n",
    "\n",
    "fig1 = plt.figure(figsize=(10,6))\n",
    "plt.plot(epochs,loss,c=\"red\",label=\"Training\")\n",
    "plt.plot(epochs,validation_loss,c=\"blue\",label=\"Validation\")\n",
    "plt.xlabel(\"Epochs\")\n",
    "plt.ylabel(\"Loss\")\n",
    "plt.xticks(epochs)\n",
    "plt.legend()"
   ]
  },
  {
   "cell_type": "code",
   "execution_count": 12,
   "metadata": {},
   "outputs": [
    {
     "data": {
      "text/plain": [
       "<matplotlib.legend.Legend at 0x25cb969d648>"
      ]
     },
     "execution_count": 12,
     "metadata": {},
     "output_type": "execute_result"
    },
    {
     "data": {
      "image/png": "[encoded data removed]",
      "text/plain": [
       "<Figure size 720x432 with 1 Axes>"
      ]
     },
     "metadata": {
      "needs_background": "light"
     },
     "output_type": "display_data"
    }
   ],
   "source": [
    "# plot the training and validation accuracy\n",
    "epochs = range(1, len(accuracy)+1)\n",
    "\n",
    "fig2 = plt.figure(figsize=(10,6))\n",
    "plt.plot(epochs,accuracy,c=\"red\",label=\"Training\")\n",
    "plt.plot(epochs,validation_accuracy,c=\"blue\",label=\"Validation\")\n",
    "plt.xlabel(\"Epochs\")\n",
    "plt.ylabel(\"Accuracy\")\n",
    "plt.xticks(epochs)\n",
    "plt.legend()"
   ]
  },
  {
   "cell_type": "code",
   "execution_count": 19,
   "metadata": {},
   "outputs": [
    {
     "name": "stdout",
     "output_type": "stream",
     "text": [
      "Garbage\n"
     ]
    }
   ],
   "source": [
    "import numpy as np\n",
    "from keras.preprocessing import image\n",
    "img_path = 'C:/Users/Arpit/Desktop/Project/Datasets/sample-spotgarbage-GINI/spotgarbage/test/garbage-queried-images/c3d74078-6799-11e5-ba3c-40f2e96c8ad8.jpg'\n",
    "test_image = image.load_img(img_path, target_size = (64, 64))\n",
    "test_image = image.img_to_array(test_image)\n",
    "test_image = np.expand_dims(test_image, axis = 0)\n",
    "result = model.predict(test_image)\n",
    "training_set.class_indices\n",
    "if result[0][0]>result[0][1]:\n",
    "  print(\"Garbage\")\n",
    "else:\n",
    "  print(\"Non-Garbage\")"
   ]
  },
  {
   "cell_type": "code",
   "execution_count": 13,
   "metadata": {},
   "outputs": [
    {
     "name": "stdout",
     "output_type": "stream",
     "text": [
      "INFO:tensorflow:Assets written to: C:\\Users\\admin\\AppData\\Local\\Temp\\tmpheaqryui\\assets\n"
     ]
    },
    {
     "data": {
      "text/plain": [
       "29589712"
      ]
     },
     "execution_count": 13,
     "metadata": {},
     "output_type": "execute_result"
    }
   ],
   "source": [
    "tf_lite_converter = tf.lite.TFLiteConverter.from_keras_model(model)\n",
    "tflite_model = tf_lite_converter.convert()\n",
    "open(\"cnn_dump.tflite\", 'wb').write(tflite_model)"
   ]
  }
 ],
 "metadata": {
  "kernelspec": {
   "display_name": "Python DL",
   "language": "python",
   "name": "tf_gpu"
  },
  "language_info": {
   "codemirror_mode": {
    "name": "ipython",
    "version": 3
   },
   "file_extension": ".py",
   "mimetype": "text/x-python",
   "name": "python",
   "nbconvert_exporter": "python",
   "pygments_lexer": "ipython3",
   "version": "3.7.10"
  }
 },
 "nbformat": 4,
 "nbformat_minor": 4
}
