{
 "cells": [
  {
   "cell_type": "code",
   "execution_count": 1,
   "id": "1e57b0b9",
   "metadata": {},
   "outputs": [],
   "source": [
    "import numpy as np\n",
    "import pandas as pd\n",
    "import matplotlib.pyplot as plt\n",
    "%matplotlib inline \n",
    "import cv2\n",
    "import os\n",
    "from keras.applications import ResNet50\n",
    "from tensorflow.python.keras.models import Sequential\n",
    "from tensorflow.python.keras.layers import Dense"
   ]
  },
  {
   "cell_type": "code",
   "execution_count": 2,
   "id": "6df68529",
   "metadata": {},
   "outputs": [],
   "source": [
    "model=Sequential()\n",
    "model.add(ResNet50(include_top = False, pooling='avg', weights='imagenet'))\n",
    "model.add(Dense(2, activation='sigmoid'))\n",
    "model.layers[0].trainable = False"
   ]
  },
  {
   "cell_type": "code",
   "execution_count": 3,
   "id": "fdc044b7",
   "metadata": {},
   "outputs": [
    {
     "name": "stdout",
     "output_type": "stream",
     "text": [
      "Model: \"sequential\"\n",
      "_________________________________________________________________\n",
      "Layer (type)                 Output Shape              Param #   \n",
      "=================================================================\n",
      "resnet50 (Functional)        (None, 2048)              23587712  \n",
      "_________________________________________________________________\n",
      "dense (Dense)                (None, 2)                 4098      \n",
      "=================================================================\n",
      "Total params: 23,591,810\n",
      "Trainable params: 4,098\n",
      "Non-trainable params: 23,587,712\n",
      "_________________________________________________________________\n"
     ]
    }
   ],
   "source": [
    "model.summary()"
   ]
  },
  {
   "cell_type": "code",
   "execution_count": 4,
   "id": "5dc27b63",
   "metadata": {},
   "outputs": [],
   "source": [
    "from keras import optimizers\n",
    "\n",
    "sgd = optimizers.SGD(lr = 0.01, decay = 1e-6, momentum = 0.9, nesterov = True)\n",
    "model.compile(optimizer = sgd, loss='categorical_crossentropy', metrics=['accuracy'])"
   ]
  },
  {
   "cell_type": "code",
   "execution_count": 5,
   "id": "c70d0ed2",
   "metadata": {},
   "outputs": [],
   "source": [
    "from keras.applications.resnet50 import preprocess_input\n",
    "from keras.preprocessing.image import ImageDataGenerator"
   ]
  },
  {
   "cell_type": "code",
   "execution_count": 6,
   "id": "5f33aa23",
   "metadata": {},
   "outputs": [
    {
     "name": "stdout",
     "output_type": "stream",
     "text": [
      "Found 1963 images belonging to 2 classes.\n",
      "Found 491 images belonging to 2 classes.\n"
     ]
    }
   ],
   "source": [
    "train_path = 'C:/Users/Arpit/Desktop/Project/Datasets/sample-spotgarbage-GINI/spotgarbage/train'\n",
    "valid_path = 'C:/Users/Arpit/Desktop/Project/Datasets/sample-spotgarbage-GINI/spotgarbage/test'\n",
    "\n",
    "data_generator = ImageDataGenerator(preprocessing_function=preprocess_input)\n",
    "training_set = data_generator.flow_from_directory(train_path,\n",
    "                                                 target_size = (128, 128),\n",
    "                                                 batch_size = 16,\n",
    "                                                 class_mode = 'categorical')\n",
    "test_set = data_generator.flow_from_directory(valid_path,\n",
    "                                            target_size = (128, 128),\n",
    "                                            batch_size = 16,\n",
    "                                            class_mode = 'categorical')"
   ]
  },
  {
   "cell_type": "code",
   "execution_count": 7,
   "id": "d33a8615",
   "metadata": {},
   "outputs": [
    {
     "name": "stdout",
     "output_type": "stream",
     "text": [
      "Epoch 1/30\n",
      "123/123 - 73s - loss: 1.6673 - accuracy: 0.8497 - val_loss: 1.9930 - val_accuracy: 0.8635\n",
      "Epoch 2/30\n",
      "123/123 - 62s - loss: 1.0328 - accuracy: 0.9078 - val_loss: 1.8403 - val_accuracy: 0.8656\n",
      "Epoch 3/30\n",
      "123/123 - 63s - loss: 0.8449 - accuracy: 0.9221 - val_loss: 1.5383 - val_accuracy: 0.8921\n",
      "Epoch 4/30\n",
      "123/123 - 64s - loss: 0.6168 - accuracy: 0.9394 - val_loss: 1.9858 - val_accuracy: 0.8635\n",
      "Epoch 5/30\n",
      "123/123 - 63s - loss: 0.4962 - accuracy: 0.9470 - val_loss: 2.1054 - val_accuracy: 0.8656\n",
      "Epoch 6/30\n",
      "123/123 - 63s - loss: 0.3640 - accuracy: 0.9501 - val_loss: 1.9681 - val_accuracy: 0.8534\n",
      "Epoch 7/30\n",
      "123/123 - 61s - loss: 0.2291 - accuracy: 0.9587 - val_loss: 2.0423 - val_accuracy: 0.8717\n",
      "Epoch 8/30\n",
      "123/123 - 61s - loss: 0.1845 - accuracy: 0.9699 - val_loss: 1.7344 - val_accuracy: 0.8941\n",
      "Epoch 9/30\n",
      "123/123 - 62s - loss: 0.1746 - accuracy: 0.9725 - val_loss: 2.2979 - val_accuracy: 0.8758\n",
      "Epoch 10/30\n",
      "123/123 - 60s - loss: 0.2156 - accuracy: 0.9730 - val_loss: 2.6983 - val_accuracy: 0.8615\n",
      "Epoch 11/30\n",
      "123/123 - 61s - loss: 0.0848 - accuracy: 0.9812 - val_loss: 1.9249 - val_accuracy: 0.8819\n",
      "Epoch 12/30\n",
      "123/123 - 61s - loss: 0.0555 - accuracy: 0.9832 - val_loss: 2.2295 - val_accuracy: 0.8717\n",
      "Epoch 13/30\n",
      "123/123 - 62s - loss: 0.0759 - accuracy: 0.9812 - val_loss: 1.9150 - val_accuracy: 0.8758\n",
      "Epoch 14/30\n",
      "123/123 - 60s - loss: 0.0713 - accuracy: 0.9873 - val_loss: 2.2015 - val_accuracy: 0.8880\n",
      "Epoch 15/30\n",
      "123/123 - 60s - loss: 0.0436 - accuracy: 0.9893 - val_loss: 2.3686 - val_accuracy: 0.8574\n",
      "Epoch 16/30\n",
      "123/123 - 60s - loss: 0.0318 - accuracy: 0.9908 - val_loss: 2.0296 - val_accuracy: 0.8697\n",
      "Epoch 17/30\n",
      "123/123 - 61s - loss: 0.0205 - accuracy: 0.9944 - val_loss: 2.1457 - val_accuracy: 0.8778\n",
      "Epoch 18/30\n",
      "123/123 - 60s - loss: 0.0034 - accuracy: 0.9980 - val_loss: 1.9433 - val_accuracy: 0.8859\n",
      "Epoch 19/30\n",
      "123/123 - 61s - loss: 0.0041 - accuracy: 0.9985 - val_loss: 1.9935 - val_accuracy: 0.8839\n",
      "Epoch 20/30\n",
      "123/123 - 60s - loss: 3.8257e-04 - accuracy: 1.0000 - val_loss: 2.0767 - val_accuracy: 0.8880\n",
      "Epoch 21/30\n",
      "123/123 - 89s - loss: 1.1581e-04 - accuracy: 1.0000 - val_loss: 1.9978 - val_accuracy: 0.8859\n",
      "Epoch 22/30\n",
      "123/123 - 110s - loss: 5.3982e-05 - accuracy: 1.0000 - val_loss: 2.0000 - val_accuracy: 0.8880\n",
      "Epoch 23/30\n",
      "123/123 - 110s - loss: 4.8962e-05 - accuracy: 1.0000 - val_loss: 2.0002 - val_accuracy: 0.8839\n",
      "Epoch 24/30\n",
      "123/123 - 110s - loss: 4.5737e-05 - accuracy: 1.0000 - val_loss: 1.9975 - val_accuracy: 0.8839\n",
      "Epoch 25/30\n",
      "123/123 - 110s - loss: 4.3266e-05 - accuracy: 1.0000 - val_loss: 1.9979 - val_accuracy: 0.8859\n",
      "Epoch 26/30\n",
      "123/123 - 114s - loss: 4.0857e-05 - accuracy: 1.0000 - val_loss: 1.9967 - val_accuracy: 0.8859\n",
      "Epoch 27/30\n",
      "123/123 - 113s - loss: 3.9296e-05 - accuracy: 1.0000 - val_loss: 1.9954 - val_accuracy: 0.8859\n",
      "Epoch 28/30\n",
      "123/123 - 112s - loss: 3.7741e-05 - accuracy: 1.0000 - val_loss: 1.9946 - val_accuracy: 0.8859\n",
      "Epoch 29/30\n",
      "123/123 - 109s - loss: 3.6271e-05 - accuracy: 1.0000 - val_loss: 1.9933 - val_accuracy: 0.8859\n",
      "Epoch 30/30\n",
      "123/123 - 112s - loss: 3.5251e-05 - accuracy: 1.0000 - val_loss: 1.9924 - val_accuracy: 0.8859\n"
     ]
    }
   ],
   "source": [
    "model_details=model.fit(training_set,batch_size=16, epochs = 30, validation_data=test_set, verbose = 2,steps_per_epoch=len(training_set),validation_steps=len(test_set))"
   ]
  },
  {
   "cell_type": "code",
   "execution_count": 8,
   "id": "fca57de7",
   "metadata": {},
   "outputs": [],
   "source": [
    "loss = model_details.history['loss']\n",
    "validation_loss = model_details.history['val_loss']"
   ]
  },
  {
   "cell_type": "code",
   "execution_count": 9,
   "id": "c1ecff0e",
   "metadata": {},
   "outputs": [],
   "source": [
    "accuracy = model_details.history['accuracy']\n",
    "validation_accuracy = model_details.history['val_accuracy']"
   ]
  },
  {
   "cell_type": "code",
   "execution_count": 10,
   "id": "32371eb4",
   "metadata": {},
   "outputs": [],
   "source": [
    "import matplotlib.pyplot as plt\n",
    "%matplotlib inline"
   ]
  },
  {
   "cell_type": "code",
   "execution_count": 11,
   "id": "3769205f",
   "metadata": {},
   "outputs": [
    {
     "data": {
      "text/plain": [
       "<matplotlib.legend.Legend at 0x21040c434c0>"
      ]
     },
     "execution_count": 11,
     "metadata": {},
     "output_type": "execute_result"
    },
    {
     "data": {
      "image/png": "[encoded data removed]",
      "text/plain": [
       "<Figure size 720x432 with 1 Axes>"
      ]
     },
     "metadata": {
      "needs_background": "light"
     },
     "output_type": "display_data"
    }
   ],
   "source": [
    "# plot the training and validation losses\n",
    "epochs = range(1, len(loss)+1)\n",
    "\n",
    "fig1 = plt.figure(figsize=(10,6))\n",
    "plt.plot(epochs,loss,c=\"red\",label=\"Training\")\n",
    "plt.plot(epochs,validation_loss,c=\"blue\",label=\"Validation\")\n",
    "plt.xlabel(\"Epochs\")\n",
    "plt.ylabel(\"Loss\")\n",
    "plt.xticks(epochs)\n",
    "plt.legend()"
   ]
  },
  {
   "cell_type": "code",
   "execution_count": 12,
   "id": "7b788e3c",
   "metadata": {},
   "outputs": [
    {
     "data": {
      "text/plain": [
       "<matplotlib.legend.Legend at 0x21047452790>"
      ]
     },
     "execution_count": 12,
     "metadata": {},
     "output_type": "execute_result"
    },
    {
     "data": {
      "image/png": "[encoded data removed]",
      "text/plain": [
       "<Figure size 720x432 with 1 Axes>"
      ]
     },
     "metadata": {
      "needs_background": "light"
     },
     "output_type": "display_data"
    }
   ],
   "source": [
    "# plot the training and validation accuracy\n",
    "epochs = range(1, len(accuracy)+1)\n",
    "\n",
    "fig2 = plt.figure(figsize=(10,6))\n",
    "plt.plot(epochs,accuracy,c=\"red\",label=\"Training\")\n",
    "plt.plot(epochs,validation_accuracy,c=\"blue\",label=\"Validation\")\n",
    "plt.xlabel(\"Epochs\")\n",
    "plt.ylabel(\"Accuracy\")\n",
    "plt.xticks(epochs)\n",
    "plt.legend()"
   ]
  },
  {
   "cell_type": "code",
   "execution_count": 13,
   "id": "330281a2",
   "metadata": {},
   "outputs": [
    {
     "name": "stdout",
     "output_type": "stream",
     "text": [
      "Non-Garbage\n"
     ]
    }
   ],
   "source": [
    "from IPython.display import Image\n",
    "from keras.preprocessing import image\n",
    "import tensorflow\n",
    "img_path = 'C:/Users/Arpit/Desktop/Project/Datasets/sample-spotgarbage-GINI/spotgarbage/test/garbage-queried-images/9e362c94-6799-11e5-ba3c-40f2e96c8ad8.jpg'\n",
    "test_image = image.load_img(img_path, target_size = [128,128])\n",
    "test_image = image.img_to_array(test_image)\n",
    "test_image = np.expand_dims(test_image, axis = 0)\n",
    "result = model.predict(test_image)\n",
    "if result[0][0]==0:\n",
    "    print(\"Garbage\")\n",
    "else:\n",
    "    print(\"Non-Garbage\")"
   ]
  },
  {
   "cell_type": "code",
   "execution_count": null,
   "id": "0360389e",
   "metadata": {},
   "outputs": [],
   "source": []
  }
 ],
 "metadata": {
  "kernelspec": {
   "display_name": "Python 3",
   "language": "python",
   "name": "python3"
  },
  "language_info": {
   "codemirror_mode": {
    "name": "ipython",
    "version": 3
   },
   "file_extension": ".py",
   "mimetype": "text/x-python",
   "name": "python",
   "nbconvert_exporter": "python",
   "pygments_lexer": "ipython3",
   "version": "3.8.8"
  }
 },
 "nbformat": 4,
 "nbformat_minor": 5
}
