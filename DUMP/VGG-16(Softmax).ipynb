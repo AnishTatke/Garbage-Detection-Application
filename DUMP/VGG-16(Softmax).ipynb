{
 "cells": [
  {
   "cell_type": "code",
   "execution_count": 5,
   "metadata": {},
   "outputs": [],
   "source": [
    "import tensorflow as tf\n",
    "from tensorflow.keras.models import Sequential, Model\n",
    "from tensorflow.keras.layers import Input, Lambda, Dense, Dropout, Activation, Flatten, Conv2D, MaxPooling2D, BatchNormalization\n",
    "from tensorflow.keras.applications.vgg16 import VGG16, preprocess_input\n",
    "from tensorflow.keras.preprocessing.image import ImageDataGenerator\n",
    "import numpy as np\n",
    "import pickle\n",
    "import time"
   ]
  },
  {
   "cell_type": "code",
   "execution_count": 8,
   "metadata": {},
   "outputs": [
    {
     "name": "stdout",
     "output_type": "stream",
     "text": [
      "Model: \"vgg16\"\n",
      "_________________________________________________________________\n",
      "Layer (type)                 Output Shape              Param #   \n",
      "=================================================================\n",
      "input_1 (InputLayer)         [(None, 128, 128, 3)]     0         \n",
      "_________________________________________________________________\n",
      "block1_conv1 (Conv2D)        (None, 128, 128, 64)      1792      \n",
      "_________________________________________________________________\n",
      "block1_conv2 (Conv2D)        (None, 128, 128, 64)      36928     \n",
      "_________________________________________________________________\n",
      "block1_pool (MaxPooling2D)   (None, 64, 64, 64)        0         \n",
      "_________________________________________________________________\n",
      "block2_conv1 (Conv2D)        (None, 64, 64, 128)       73856     \n",
      "_________________________________________________________________\n",
      "block2_conv2 (Conv2D)        (None, 64, 64, 128)       147584    \n",
      "_________________________________________________________________\n",
      "block2_pool (MaxPooling2D)   (None, 32, 32, 128)       0         \n",
      "_________________________________________________________________\n",
      "block3_conv1 (Conv2D)        (None, 32, 32, 256)       295168    \n",
      "_________________________________________________________________\n",
      "block3_conv2 (Conv2D)        (None, 32, 32, 256)       590080    \n",
      "_________________________________________________________________\n",
      "block3_conv3 (Conv2D)        (None, 32, 32, 256)       590080    \n",
      "_________________________________________________________________\n",
      "block3_pool (MaxPooling2D)   (None, 16, 16, 256)       0         \n",
      "_________________________________________________________________\n",
      "block4_conv1 (Conv2D)        (None, 16, 16, 512)       1180160   \n",
      "_________________________________________________________________\n",
      "block4_conv2 (Conv2D)        (None, 16, 16, 512)       2359808   \n",
      "_________________________________________________________________\n",
      "block4_conv3 (Conv2D)        (None, 16, 16, 512)       2359808   \n",
      "_________________________________________________________________\n",
      "block4_pool (MaxPooling2D)   (None, 8, 8, 512)         0         \n",
      "_________________________________________________________________\n",
      "block5_conv1 (Conv2D)        (None, 8, 8, 512)         2359808   \n",
      "_________________________________________________________________\n",
      "block5_conv2 (Conv2D)        (None, 8, 8, 512)         2359808   \n",
      "_________________________________________________________________\n",
      "block5_conv3 (Conv2D)        (None, 8, 8, 512)         2359808   \n",
      "_________________________________________________________________\n",
      "block5_pool (MaxPooling2D)   (None, 4, 4, 512)         0         \n",
      "=================================================================\n",
      "Total params: 14,714,688\n",
      "Trainable params: 14,714,688\n",
      "Non-trainable params: 0\n",
      "_________________________________________________________________\n"
     ]
    }
   ],
   "source": [
    "IMAGE_SIZE = 128\n",
    "IMAGE_SHAPE = [IMAGE_SIZE, IMAGE_SIZE, 3]\n",
    "vgg = VGG16(input_shape=IMAGE_SHAPE, weights='imagenet', include_top=False)\n",
    "vgg.summary()"
   ]
  },
  {
   "cell_type": "code",
   "execution_count": 9,
   "metadata": {},
   "outputs": [],
   "source": [
    "for layer in vgg.layers:\n",
    "  layer.trainable = False"
   ]
  },
  {
   "cell_type": "code",
   "execution_count": 10,
   "metadata": {},
   "outputs": [
    {
     "name": "stdout",
     "output_type": "stream",
     "text": [
      "Model: \"model\"\n",
      "_________________________________________________________________\n",
      "Layer (type)                 Output Shape              Param #   \n",
      "=================================================================\n",
      "input_1 (InputLayer)         [(None, 128, 128, 3)]     0         \n",
      "_________________________________________________________________\n",
      "block1_conv1 (Conv2D)        (None, 128, 128, 64)      1792      \n",
      "_________________________________________________________________\n",
      "block1_conv2 (Conv2D)        (None, 128, 128, 64)      36928     \n",
      "_________________________________________________________________\n",
      "block1_pool (MaxPooling2D)   (None, 64, 64, 64)        0         \n",
      "_________________________________________________________________\n",
      "block2_conv1 (Conv2D)        (None, 64, 64, 128)       73856     \n",
      "_________________________________________________________________\n",
      "block2_conv2 (Conv2D)        (None, 64, 64, 128)       147584    \n",
      "_________________________________________________________________\n",
      "block2_pool (MaxPooling2D)   (None, 32, 32, 128)       0         \n",
      "_________________________________________________________________\n",
      "block3_conv1 (Conv2D)        (None, 32, 32, 256)       295168    \n",
      "_________________________________________________________________\n",
      "block3_conv2 (Conv2D)        (None, 32, 32, 256)       590080    \n",
      "_________________________________________________________________\n",
      "block3_conv3 (Conv2D)        (None, 32, 32, 256)       590080    \n",
      "_________________________________________________________________\n",
      "block3_pool (MaxPooling2D)   (None, 16, 16, 256)       0         \n",
      "_________________________________________________________________\n",
      "block4_conv1 (Conv2D)        (None, 16, 16, 512)       1180160   \n",
      "_________________________________________________________________\n",
      "block4_conv2 (Conv2D)        (None, 16, 16, 512)       2359808   \n",
      "_________________________________________________________________\n",
      "block4_conv3 (Conv2D)        (None, 16, 16, 512)       2359808   \n",
      "_________________________________________________________________\n",
      "block4_pool (MaxPooling2D)   (None, 8, 8, 512)         0         \n",
      "_________________________________________________________________\n",
      "block5_conv1 (Conv2D)        (None, 8, 8, 512)         2359808   \n",
      "_________________________________________________________________\n",
      "block5_conv2 (Conv2D)        (None, 8, 8, 512)         2359808   \n",
      "_________________________________________________________________\n",
      "block5_conv3 (Conv2D)        (None, 8, 8, 512)         2359808   \n",
      "_________________________________________________________________\n",
      "block5_pool (MaxPooling2D)   (None, 4, 4, 512)         0         \n",
      "_________________________________________________________________\n",
      "flatten (Flatten)            (None, 8192)              0         \n",
      "_________________________________________________________________\n",
      "dense (Dense)                (None, 2)                 16386     \n",
      "=================================================================\n",
      "Total params: 14,731,074\n",
      "Trainable params: 16,386\n",
      "Non-trainable params: 14,714,688\n",
      "_________________________________________________________________\n"
     ]
    }
   ],
   "source": [
    "x = Flatten()(vgg.output)\n",
    "prediction = Dense(2, activation='softmax')(x)\n",
    "model = Model(inputs=vgg.input, outputs=prediction)\n",
    "model.summary()"
   ]
  },
  {
   "cell_type": "code",
   "execution_count": 11,
   "metadata": {},
   "outputs": [],
   "source": [
    "model.compile(\n",
    "  loss='categorical_crossentropy',\n",
    "  optimizer='adam',\n",
    "  metrics=['accuracy']\n",
    ")"
   ]
  },
  {
   "cell_type": "code",
   "execution_count": 12,
   "metadata": {},
   "outputs": [
    {
     "name": "stdout",
     "output_type": "stream",
     "text": [
      "Found 2454 images belonging to 2 classes.\n",
      "Found 490 images belonging to 2 classes.\n"
     ]
    }
   ],
   "source": [
    "train_path = 'C:/Users/admin/Documents/Material/BTECH PROJECT/Dump/GINI/spotgarbage-GINI/spotgarbage/images'\n",
    "\n",
    "train_datagen = ImageDataGenerator(rescale = 1./255,\n",
    "                                   shear_range = 0.2,\n",
    "                                   zoom_range = 0.2,\n",
    "                                   horizontal_flip = True)\n",
    "test_datagen = ImageDataGenerator(rescale = 1./255,validation_split=0.2)\n",
    "training_set = train_datagen.flow_from_directory(train_path,\n",
    "                                                 target_size = (IMAGE_SIZE, IMAGE_SIZE),\n",
    "                                                 batch_size = 16,\n",
    "                                                 class_mode = 'categorical',subset='training')\n",
    "test_set = test_datagen.flow_from_directory(train_path,\n",
    "                                            target_size = (IMAGE_SIZE, IMAGE_SIZE),\n",
    "                                            batch_size = 16,\n",
    "                                            class_mode = 'categorical',subset='validation')"
   ]
  },
  {
   "cell_type": "code",
   "execution_count": 13,
   "metadata": {},
   "outputs": [
    {
     "name": "stdout",
     "output_type": "stream",
     "text": [
      "Epoch 1/30\n",
      "154/154 [==============================] - 180s 1s/step - loss: 0.5464 - accuracy: 0.7152 - val_loss: 0.3474 - val_accuracy: 0.8408\n",
      "Epoch 2/30\n",
      "154/154 [==============================] - 83s 542ms/step - loss: 0.3139 - accuracy: 0.8574 - val_loss: 0.2794 - val_accuracy: 0.8857\n",
      "Epoch 3/30\n",
      "154/154 [==============================] - 86s 556ms/step - loss: 0.2573 - accuracy: 0.8899 - val_loss: 0.2872 - val_accuracy: 0.8755\n",
      "Epoch 4/30\n",
      "154/154 [==============================] - 85s 552ms/step - loss: 0.2389 - accuracy: 0.9077 - val_loss: 0.3464 - val_accuracy: 0.8612\n",
      "Epoch 5/30\n",
      "154/154 [==============================] - 85s 553ms/step - loss: 0.2573 - accuracy: 0.8985 - val_loss: 0.2396 - val_accuracy: 0.8939\n",
      "Epoch 6/30\n",
      "154/154 [==============================] - 86s 554ms/step - loss: 0.2165 - accuracy: 0.9159 - val_loss: 0.2057 - val_accuracy: 0.9143\n",
      "Epoch 7/30\n",
      "154/154 [==============================] - 85s 553ms/step - loss: 0.2144 - accuracy: 0.9120 - val_loss: 0.2039 - val_accuracy: 0.9184\n",
      "Epoch 8/30\n",
      "154/154 [==============================] - 86s 559ms/step - loss: 0.1810 - accuracy: 0.9282 - val_loss: 0.2062 - val_accuracy: 0.9122\n",
      "Epoch 9/30\n",
      "154/154 [==============================] - 85s 553ms/step - loss: 0.1772 - accuracy: 0.9342 - val_loss: 0.1677 - val_accuracy: 0.9388\n",
      "Epoch 10/30\n",
      "154/154 [==============================] - 85s 552ms/step - loss: 0.1529 - accuracy: 0.9437 - val_loss: 0.1615 - val_accuracy: 0.9347\n",
      "Epoch 11/30\n",
      "154/154 [==============================] - 85s 551ms/step - loss: 0.1669 - accuracy: 0.9355 - val_loss: 0.1614 - val_accuracy: 0.9265\n",
      "Epoch 12/30\n",
      "154/154 [==============================] - 85s 551ms/step - loss: 0.1702 - accuracy: 0.9333 - val_loss: 0.1901 - val_accuracy: 0.9184\n",
      "Epoch 13/30\n",
      "154/154 [==============================] - 85s 549ms/step - loss: 0.1372 - accuracy: 0.9470 - val_loss: 0.1556 - val_accuracy: 0.9429\n",
      "Epoch 14/30\n",
      "154/154 [==============================] - 85s 553ms/step - loss: 0.1511 - accuracy: 0.9370 - val_loss: 0.1687 - val_accuracy: 0.9306\n",
      "Epoch 15/30\n",
      "154/154 [==============================] - 86s 556ms/step - loss: 0.1393 - accuracy: 0.9500 - val_loss: 0.1233 - val_accuracy: 0.9531\n",
      "Epoch 16/30\n",
      "154/154 [==============================] - 86s 556ms/step - loss: 0.1430 - accuracy: 0.9501 - val_loss: 0.1178 - val_accuracy: 0.9510\n",
      "Epoch 17/30\n",
      "154/154 [==============================] - 85s 554ms/step - loss: 0.1558 - accuracy: 0.9395 - val_loss: 0.1399 - val_accuracy: 0.9429\n",
      "Epoch 18/30\n",
      "154/154 [==============================] - 86s 557ms/step - loss: 0.1324 - accuracy: 0.9444 - val_loss: 0.1191 - val_accuracy: 0.9510\n",
      "Epoch 19/30\n",
      "154/154 [==============================] - 85s 554ms/step - loss: 0.1281 - accuracy: 0.9482 - val_loss: 0.1632 - val_accuracy: 0.9286\n",
      "Epoch 20/30\n",
      "154/154 [==============================] - 85s 554ms/step - loss: 0.1384 - accuracy: 0.9519 - val_loss: 0.1610 - val_accuracy: 0.9408\n",
      "Epoch 21/30\n",
      "154/154 [==============================] - 86s 561ms/step - loss: 0.1167 - accuracy: 0.9489 - val_loss: 0.1022 - val_accuracy: 0.9571\n",
      "Epoch 22/30\n",
      "154/154 [==============================] - 85s 554ms/step - loss: 0.1147 - accuracy: 0.9538 - val_loss: 0.1374 - val_accuracy: 0.9429\n",
      "Epoch 23/30\n",
      "154/154 [==============================] - 86s 556ms/step - loss: 0.1053 - accuracy: 0.9607 - val_loss: 0.1366 - val_accuracy: 0.9449\n",
      "Epoch 24/30\n",
      "154/154 [==============================] - 85s 552ms/step - loss: 0.1195 - accuracy: 0.9541 - val_loss: 0.1254 - val_accuracy: 0.9531\n",
      "Epoch 25/30\n",
      "154/154 [==============================] - 85s 554ms/step - loss: 0.1267 - accuracy: 0.9537 - val_loss: 0.0850 - val_accuracy: 0.9673\n",
      "Epoch 26/30\n",
      "154/154 [==============================] - 86s 558ms/step - loss: 0.1205 - accuracy: 0.9524 - val_loss: 0.0969 - val_accuracy: 0.9694\n",
      "Epoch 27/30\n",
      "154/154 [==============================] - 85s 554ms/step - loss: 0.1127 - accuracy: 0.9569 - val_loss: 0.0918 - val_accuracy: 0.9694\n",
      "Epoch 28/30\n",
      "154/154 [==============================] - 85s 555ms/step - loss: 0.1158 - accuracy: 0.9584 - val_loss: 0.1477 - val_accuracy: 0.9429\n",
      "Epoch 29/30\n",
      "154/154 [==============================] - 85s 552ms/step - loss: 0.1346 - accuracy: 0.9441 - val_loss: 0.0988 - val_accuracy: 0.9510\n",
      "Epoch 30/30\n",
      "154/154 [==============================] - 85s 554ms/step - loss: 0.1049 - accuracy: 0.9604 - val_loss: 0.0957 - val_accuracy: 0.9673\n"
     ]
    }
   ],
   "source": [
    "model_details=model.fit(training_set,batch_size=16, epochs = 30, validation_data=test_set, steps_per_epoch=len(training_set),validation_steps=len(test_set))"
   ]
  },
  {
   "cell_type": "code",
   "execution_count": 14,
   "metadata": {},
   "outputs": [],
   "source": [
    "loss = model_details.history['loss']\n",
    "validation_loss = model_details.history['val_loss']"
   ]
  },
  {
   "cell_type": "code",
   "execution_count": 15,
   "metadata": {},
   "outputs": [],
   "source": [
    "accuracy = model_details.history['accuracy']\n",
    "validation_accuracy = model_details.history['val_accuracy']"
   ]
  },
  {
   "cell_type": "code",
   "execution_count": 16,
   "metadata": {},
   "outputs": [],
   "source": [
    "import matplotlib.pyplot as plt\n",
    "%matplotlib inline"
   ]
  },
  {
   "cell_type": "code",
   "execution_count": 17,
   "metadata": {},
   "outputs": [
    {
     "data": {
      "text/plain": [
       "<matplotlib.legend.Legend at 0x1863f830788>"
      ]
     },
     "execution_count": 17,
     "metadata": {},
     "output_type": "execute_result"
    },
    {
     "data": {
      "image/png": "[encoded data removed]",
      "text/plain": [
       "<Figure size 720x432 with 1 Axes>"
      ]
     },
     "metadata": {
      "needs_background": "light"
     },
     "output_type": "display_data"
    }
   ],
   "source": [
    "# plot the training and validation losses\n",
    "epochs = range(1, len(loss)+1)\n",
    "\n",
    "fig1 = plt.figure(figsize=(10,6))\n",
    "plt.plot(epochs,loss,c=\"red\",label=\"Training\")\n",
    "plt.plot(epochs,validation_loss,c=\"blue\",label=\"Validation\")\n",
    "plt.xlabel(\"Epochs\")\n",
    "plt.ylabel(\"Loss\")\n",
    "plt.xticks(epochs)\n",
    "plt.legend()"
   ]
  },
  {
   "cell_type": "code",
   "execution_count": 18,
   "metadata": {},
   "outputs": [
    {
     "data": {
      "text/plain": [
       "<matplotlib.legend.Legend at 0x1863f26cdc8>"
      ]
     },
     "execution_count": 18,
     "metadata": {},
     "output_type": "execute_result"
    },
    {
     "data": {
      "image/png": "[encoded data removed]",
      "text/plain": [
       "<Figure size 720x432 with 1 Axes>"
      ]
     },
     "metadata": {
      "needs_background": "light"
     },
     "output_type": "display_data"
    }
   ],
   "source": [
    "# plot the training and validation accuracy\n",
    "epochs = range(1, len(accuracy)+1)\n",
    "\n",
    "fig2 = plt.figure(figsize=(10,6))\n",
    "plt.plot(epochs,accuracy,c=\"red\",label=\"Training\")\n",
    "plt.plot(epochs,validation_accuracy,c=\"blue\",label=\"Validation\")\n",
    "plt.xlabel(\"Epochs\")\n",
    "plt.ylabel(\"Accuracy\")\n",
    "plt.xticks(epochs)\n",
    "plt.legend()"
   ]
  },
  {
   "cell_type": "code",
   "execution_count": 16,
   "metadata": {},
   "outputs": [
    {
     "name": "stdout",
     "output_type": "stream",
     "text": [
      "Non-Garbage\n"
     ]
    }
   ],
   "source": [
    "from IPython.display import Image\n",
    "from keras.preprocessing import image\n",
    "import tensorflow\n",
    "img_path = 'C:/Users/Arpit/Desktop/Project/Datasets/sample-spotgarbage-GINI/spotgarbage/test/non-garbage-queried-images/0dbd00ae-9447-11e5-b59a-40f2e96c8ad8.jpg'\n",
    "test_image = image.load_img(img_path, target_size = [128,128])\n",
    "test_image = image.img_to_array(test_image)\n",
    "test_image = np.expand_dims(test_image, axis = 0)\n",
    "result = model.predict(test_image)\n",
    "if result[0][0]>result[0][1]:\n",
    "    print(\"Garbage\")\n",
    "else:\n",
    "    print(\"Non-Garbage\")"
   ]
  },
  {
   "cell_type": "code",
   "execution_count": 19,
   "metadata": {},
   "outputs": [
    {
     "name": "stdout",
     "output_type": "stream",
     "text": [
      "INFO:tensorflow:Assets written to: C:\\Users\\admin\\AppData\\Local\\Temp\\tmpge85a3hy\\assets\n"
     ]
    },
    {
     "data": {
      "text/plain": [
       "58932924"
      ]
     },
     "execution_count": 19,
     "metadata": {},
     "output_type": "execute_result"
    }
   ],
   "source": [
    "tf_lite_converter = tf.lite.TFLiteConverter.from_keras_model(model)\n",
    "tflite_model = tf_lite_converter.convert()\n",
    "open(\"vgg16_dump.tflite\", 'wb').write(tflite_model)"
   ]
  },
  {
   "cell_type": "code",
   "execution_count": null,
   "metadata": {},
   "outputs": [],
   "source": []
  }
 ],
 "metadata": {
  "kernelspec": {
   "display_name": "Python DL",
   "language": "python",
   "name": "tf_gpu"
  },
  "language_info": {
   "codemirror_mode": {
    "name": "ipython",
    "version": 3
   },
   "file_extension": ".py",
   "mimetype": "text/x-python",
   "name": "python",
   "nbconvert_exporter": "python",
   "pygments_lexer": "ipython3",
   "version": "3.7.10"
  }
 },
 "nbformat": 4,
 "nbformat_minor": 4
}
