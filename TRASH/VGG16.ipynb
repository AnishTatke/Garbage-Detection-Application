{
 "cells": [
  {
   "cell_type": "code",
   "execution_count": 1,
   "metadata": {},
   "outputs": [],
   "source": [
    "import tensorflow as tf\n",
    "from tensorflow.keras.models import Sequential\n",
    "from tensorflow.keras.layers import Dense, Dropout, Activation, Flatten, Conv2D, MaxPooling2D, BatchNormalization\n",
    "import pickle\n",
    "import time\n",
    "from tensorflow.keras.callbacks import TensorBoard\n",
    "physical_devices = tf.config.list_physical_devices('GPU')\n",
    "tf.config.experimental.set_memory_growth(physical_devices[0], True)"
   ]
  },
  {
   "cell_type": "code",
   "execution_count": 2,
   "metadata": {},
   "outputs": [],
   "source": [
    "from keras.layers import Input, Lambda, Dense, Flatten\n",
    "from keras.models import Model\n",
    "from keras.applications.vgg16 import VGG16\n",
    "from keras.applications.vgg16 import preprocess_input\n",
    "from keras.preprocessing import image\n",
    "from keras.preprocessing.image import ImageDataGenerator\n",
    "from keras.models import Sequential\n",
    "import numpy as np"
   ]
  },
  {
   "cell_type": "code",
   "execution_count": 3,
   "metadata": {},
   "outputs": [
    {
     "name": "stdout",
     "output_type": "stream",
     "text": [
      "Model: \"vgg16\"\n",
      "_________________________________________________________________\n",
      "Layer (type)                 Output Shape              Param #   \n",
      "=================================================================\n",
      "input_1 (InputLayer)         [(None, 128, 128, 3)]     0         \n",
      "_________________________________________________________________\n",
      "block1_conv1 (Conv2D)        (None, 128, 128, 64)      1792      \n",
      "_________________________________________________________________\n",
      "block1_conv2 (Conv2D)        (None, 128, 128, 64)      36928     \n",
      "_________________________________________________________________\n",
      "block1_pool (MaxPooling2D)   (None, 64, 64, 64)        0         \n",
      "_________________________________________________________________\n",
      "block2_conv1 (Conv2D)        (None, 64, 64, 128)       73856     \n",
      "_________________________________________________________________\n",
      "block2_conv2 (Conv2D)        (None, 64, 64, 128)       147584    \n",
      "_________________________________________________________________\n",
      "block2_pool (MaxPooling2D)   (None, 32, 32, 128)       0         \n",
      "_________________________________________________________________\n",
      "block3_conv1 (Conv2D)        (None, 32, 32, 256)       295168    \n",
      "_________________________________________________________________\n",
      "block3_conv2 (Conv2D)        (None, 32, 32, 256)       590080    \n",
      "_________________________________________________________________\n",
      "block3_conv3 (Conv2D)        (None, 32, 32, 256)       590080    \n",
      "_________________________________________________________________\n",
      "block3_pool (MaxPooling2D)   (None, 16, 16, 256)       0         \n",
      "_________________________________________________________________\n",
      "block4_conv1 (Conv2D)        (None, 16, 16, 512)       1180160   \n",
      "_________________________________________________________________\n",
      "block4_conv2 (Conv2D)        (None, 16, 16, 512)       2359808   \n",
      "_________________________________________________________________\n",
      "block4_conv3 (Conv2D)        (None, 16, 16, 512)       2359808   \n",
      "_________________________________________________________________\n",
      "block4_pool (MaxPooling2D)   (None, 8, 8, 512)         0         \n",
      "_________________________________________________________________\n",
      "block5_conv1 (Conv2D)        (None, 8, 8, 512)         2359808   \n",
      "_________________________________________________________________\n",
      "block5_conv2 (Conv2D)        (None, 8, 8, 512)         2359808   \n",
      "_________________________________________________________________\n",
      "block5_conv3 (Conv2D)        (None, 8, 8, 512)         2359808   \n",
      "_________________________________________________________________\n",
      "block5_pool (MaxPooling2D)   (None, 4, 4, 512)         0         \n",
      "=================================================================\n",
      "Total params: 14,714,688\n",
      "Trainable params: 14,714,688\n",
      "Non-trainable params: 0\n",
      "_________________________________________________________________\n"
     ]
    }
   ],
   "source": [
    "IMAGE_SIZE = [128, 128, 3]\n",
    "vgg = VGG16(input_shape=IMAGE_SIZE, weights='imagenet', include_top=False)\n",
    "vgg.summary()"
   ]
  },
  {
   "cell_type": "code",
   "execution_count": 4,
   "metadata": {},
   "outputs": [],
   "source": [
    "for layer in vgg.layers:\n",
    "  layer.trainable = False"
   ]
  },
  {
   "cell_type": "code",
   "execution_count": 5,
   "metadata": {},
   "outputs": [
    {
     "name": "stdout",
     "output_type": "stream",
     "text": [
      "Model: \"model\"\n",
      "_________________________________________________________________\n",
      "Layer (type)                 Output Shape              Param #   \n",
      "=================================================================\n",
      "input_1 (InputLayer)         [(None, 128, 128, 3)]     0         \n",
      "_________________________________________________________________\n",
      "block1_conv1 (Conv2D)        (None, 128, 128, 64)      1792      \n",
      "_________________________________________________________________\n",
      "block1_conv2 (Conv2D)        (None, 128, 128, 64)      36928     \n",
      "_________________________________________________________________\n",
      "block1_pool (MaxPooling2D)   (None, 64, 64, 64)        0         \n",
      "_________________________________________________________________\n",
      "block2_conv1 (Conv2D)        (None, 64, 64, 128)       73856     \n",
      "_________________________________________________________________\n",
      "block2_conv2 (Conv2D)        (None, 64, 64, 128)       147584    \n",
      "_________________________________________________________________\n",
      "block2_pool (MaxPooling2D)   (None, 32, 32, 128)       0         \n",
      "_________________________________________________________________\n",
      "block3_conv1 (Conv2D)        (None, 32, 32, 256)       295168    \n",
      "_________________________________________________________________\n",
      "block3_conv2 (Conv2D)        (None, 32, 32, 256)       590080    \n",
      "_________________________________________________________________\n",
      "block3_conv3 (Conv2D)        (None, 32, 32, 256)       590080    \n",
      "_________________________________________________________________\n",
      "block3_pool (MaxPooling2D)   (None, 16, 16, 256)       0         \n",
      "_________________________________________________________________\n",
      "block4_conv1 (Conv2D)        (None, 16, 16, 512)       1180160   \n",
      "_________________________________________________________________\n",
      "block4_conv2 (Conv2D)        (None, 16, 16, 512)       2359808   \n",
      "_________________________________________________________________\n",
      "block4_conv3 (Conv2D)        (None, 16, 16, 512)       2359808   \n",
      "_________________________________________________________________\n",
      "block4_pool (MaxPooling2D)   (None, 8, 8, 512)         0         \n",
      "_________________________________________________________________\n",
      "block5_conv1 (Conv2D)        (None, 8, 8, 512)         2359808   \n",
      "_________________________________________________________________\n",
      "block5_conv2 (Conv2D)        (None, 8, 8, 512)         2359808   \n",
      "_________________________________________________________________\n",
      "block5_conv3 (Conv2D)        (None, 8, 8, 512)         2359808   \n",
      "_________________________________________________________________\n",
      "block5_pool (MaxPooling2D)   (None, 4, 4, 512)         0         \n",
      "_________________________________________________________________\n",
      "flatten (Flatten)            (None, 8192)              0         \n",
      "_________________________________________________________________\n",
      "dense (Dense)                (None, 2)                 16386     \n",
      "=================================================================\n",
      "Total params: 14,731,074\n",
      "Trainable params: 16,386\n",
      "Non-trainable params: 14,714,688\n",
      "_________________________________________________________________\n"
     ]
    }
   ],
   "source": [
    "x = Flatten()(vgg.output)\n",
    "prediction = Dense(2, activation='softmax')(x)\n",
    "model = Model(inputs=vgg.input, outputs=prediction)\n",
    "model.summary()"
   ]
  },
  {
   "cell_type": "code",
   "execution_count": 6,
   "metadata": {},
   "outputs": [],
   "source": [
    "model.compile(\n",
    "  loss='categorical_crossentropy',\n",
    "  optimizer='adam',\n",
    "  metrics=['accuracy']\n",
    ")"
   ]
  },
  {
   "cell_type": "code",
   "execution_count": 7,
   "metadata": {},
   "outputs": [
    {
     "name": "stdout",
     "output_type": "stream",
     "text": [
      "Found 3648 images belonging to 2 classes.\n",
      "Found 1041 images belonging to 2 classes.\n"
     ]
    }
   ],
   "source": [
    "train_path = 'C:/Users/admin/Documents/Material/BTECH PROJECT/Trash/CustomData/Customtrain'\n",
    "valid_path = 'C:/Users/admin/Documents/Material/BTECH PROJECT/Trash/CustomData/Customval'\n",
    "\n",
    "train_datagen = ImageDataGenerator(rescale = 1./255,\n",
    "                                   shear_range = 0.2,\n",
    "                                   zoom_range = 0.2,\n",
    "                                   horizontal_flip = True)\n",
    "val_datagen = ImageDataGenerator(rescale = 1./255)\n",
    "training_set = train_datagen.flow_from_directory(train_path,\n",
    "                                                 target_size = (128, 128),\n",
    "                                                 batch_size = 16,\n",
    "                                                 class_mode = 'categorical')\n",
    "val_set = val_datagen.flow_from_directory(valid_path,\n",
    "                                         target_size = (128, 128),\n",
    "                                         batch_size = 16,\n",
    "                                         class_mode = 'categorical')"
   ]
  },
  {
   "cell_type": "code",
   "execution_count": 8,
   "metadata": {},
   "outputs": [
    {
     "name": "stdout",
     "output_type": "stream",
     "text": [
      "Epoch 1/30\n",
      "228/228 - 589s - loss: 0.3225 - accuracy: 0.8602 - val_loss: 0.1976 - val_accuracy: 0.9270\n",
      "Epoch 2/30\n",
      "228/228 - 451s - loss: 0.2077 - accuracy: 0.9183 - val_loss: 0.1709 - val_accuracy: 0.9308\n",
      "Epoch 3/30\n",
      "228/228 - 426s - loss: 0.1738 - accuracy: 0.9309 - val_loss: 0.1737 - val_accuracy: 0.9270\n",
      "Epoch 4/30\n",
      "228/228 - 331s - loss: 0.1664 - accuracy: 0.9331 - val_loss: 0.1471 - val_accuracy: 0.9462\n",
      "Epoch 5/30\n",
      "228/228 - 256s - loss: 0.1482 - accuracy: 0.9430 - val_loss: 0.1624 - val_accuracy: 0.9280\n",
      "Epoch 6/30\n",
      "228/228 - 249s - loss: 0.1272 - accuracy: 0.9509 - val_loss: 0.1439 - val_accuracy: 0.9462\n",
      "Epoch 7/30\n",
      "228/228 - 259s - loss: 0.1259 - accuracy: 0.9523 - val_loss: 0.1479 - val_accuracy: 0.9395\n",
      "Epoch 8/30\n",
      "228/228 - 272s - loss: 0.1200 - accuracy: 0.9534 - val_loss: 0.1646 - val_accuracy: 0.9347\n",
      "Epoch 9/30\n",
      "228/228 - 257s - loss: 0.1256 - accuracy: 0.9507 - val_loss: 0.1710 - val_accuracy: 0.9433\n",
      "Epoch 10/30\n",
      "228/228 - 441s - loss: 0.1072 - accuracy: 0.9581 - val_loss: 0.2073 - val_accuracy: 0.9280\n",
      "Epoch 11/30\n",
      "228/228 - 302s - loss: 0.1111 - accuracy: 0.9567 - val_loss: 0.1514 - val_accuracy: 0.9376\n",
      "Epoch 12/30\n",
      "228/228 - 283s - loss: 0.1054 - accuracy: 0.9613 - val_loss: 0.1513 - val_accuracy: 0.9452\n",
      "Epoch 13/30\n",
      "228/228 - 277s - loss: 0.0971 - accuracy: 0.9627 - val_loss: 0.1452 - val_accuracy: 0.9481\n",
      "Epoch 14/30\n",
      "228/228 - 281s - loss: 0.1016 - accuracy: 0.9600 - val_loss: 0.1784 - val_accuracy: 0.9376\n",
      "Epoch 15/30\n",
      "228/228 - 293s - loss: 0.0952 - accuracy: 0.9641 - val_loss: 0.1448 - val_accuracy: 0.9472\n",
      "Epoch 16/30\n",
      "228/228 - 294s - loss: 0.0968 - accuracy: 0.9624 - val_loss: 0.1427 - val_accuracy: 0.9443\n",
      "Epoch 17/30\n",
      "228/228 - 268s - loss: 0.0844 - accuracy: 0.9685 - val_loss: 0.1734 - val_accuracy: 0.9424\n",
      "Epoch 18/30\n",
      "228/228 - 270s - loss: 0.0785 - accuracy: 0.9688 - val_loss: 0.1490 - val_accuracy: 0.9549\n",
      "Epoch 19/30\n",
      "228/228 - 272s - loss: 0.0871 - accuracy: 0.9677 - val_loss: 0.1663 - val_accuracy: 0.9404\n",
      "Epoch 20/30\n",
      "228/228 - 269s - loss: 0.0852 - accuracy: 0.9685 - val_loss: 0.1890 - val_accuracy: 0.9328\n",
      "Epoch 21/30\n",
      "228/228 - 253s - loss: 0.0737 - accuracy: 0.9715 - val_loss: 0.1383 - val_accuracy: 0.9510\n",
      "Epoch 22/30\n",
      "228/228 - 235s - loss: 0.0799 - accuracy: 0.9679 - val_loss: 0.1447 - val_accuracy: 0.9433\n",
      "Epoch 23/30\n",
      "228/228 - 237s - loss: 0.0731 - accuracy: 0.9718 - val_loss: 0.1338 - val_accuracy: 0.9491\n",
      "Epoch 24/30\n",
      "228/228 - 236s - loss: 0.0669 - accuracy: 0.9737 - val_loss: 0.1472 - val_accuracy: 0.9433\n",
      "Epoch 25/30\n",
      "228/228 - 225s - loss: 0.0737 - accuracy: 0.9720 - val_loss: 0.1709 - val_accuracy: 0.9510\n",
      "Epoch 26/30\n",
      "228/228 - 239s - loss: 0.0632 - accuracy: 0.9770 - val_loss: 0.1507 - val_accuracy: 0.9472\n",
      "Epoch 27/30\n",
      "228/228 - 257s - loss: 0.0657 - accuracy: 0.9742 - val_loss: 0.1553 - val_accuracy: 0.9452\n",
      "Epoch 28/30\n",
      "228/228 - 272s - loss: 0.0727 - accuracy: 0.9720 - val_loss: 0.1573 - val_accuracy: 0.9424\n",
      "Epoch 29/30\n",
      "228/228 - 227s - loss: 0.0752 - accuracy: 0.9707 - val_loss: 0.1605 - val_accuracy: 0.9452\n",
      "Epoch 30/30\n",
      "228/228 - 258s - loss: 0.0606 - accuracy: 0.9748 - val_loss: 0.1888 - val_accuracy: 0.9308\n"
     ]
    }
   ],
   "source": [
    "model_details=model.fit(training_set,batch_size=16, epochs = 30, validation_data=val_set, verbose = 2,steps_per_epoch=len(training_set),validation_steps=len(val_set))"
   ]
  },
  {
   "cell_type": "code",
   "execution_count": 9,
   "metadata": {},
   "outputs": [],
   "source": [
    "loss = model_details.history['loss']\n",
    "validation_loss = model_details.history['val_loss']"
   ]
  },
  {
   "cell_type": "code",
   "execution_count": 10,
   "metadata": {},
   "outputs": [],
   "source": [
    "accuracy = model_details.history['accuracy']\n",
    "validation_accuracy = model_details.history['val_accuracy']"
   ]
  },
  {
   "cell_type": "code",
   "execution_count": 11,
   "metadata": {},
   "outputs": [],
   "source": [
    "import matplotlib.pyplot as plt\n",
    "%matplotlib inline"
   ]
  },
  {
   "cell_type": "code",
   "execution_count": 12,
   "metadata": {},
   "outputs": [
    {
     "data": {
      "text/plain": [
       "<matplotlib.legend.Legend at 0x22cd3568fd0>"
      ]
     },
     "execution_count": 12,
     "metadata": {},
     "output_type": "execute_result"
    },
    {
     "data": {
      "image/png": "[encoded data removed]",
      "text/plain": [
       "<Figure size 720x432 with 1 Axes>"
      ]
     },
     "metadata": {
      "needs_background": "light"
     },
     "output_type": "display_data"
    }
   ],
   "source": [
    "# plot the training and validation losses\n",
    "epochs = range(1, len(loss)+1)\n",
    "\n",
    "fig1 = plt.figure(figsize=(10,6))\n",
    "plt.plot(epochs,loss,c=\"red\",label=\"Training\")\n",
    "plt.plot(epochs,validation_loss,c=\"blue\",label=\"Validation\")\n",
    "plt.xlabel(\"Epochs\")\n",
    "plt.ylabel(\"Loss\")\n",
    "plt.xticks(epochs)\n",
    "plt.legend()"
   ]
  },
  {
   "cell_type": "code",
   "execution_count": 13,
   "metadata": {},
   "outputs": [
    {
     "data": {
      "text/plain": [
       "<matplotlib.legend.Legend at 0x22cd5dee130>"
      ]
     },
     "execution_count": 13,
     "metadata": {},
     "output_type": "execute_result"
    },
    {
     "data": {
      "image/png": "[encoded data removed]",
      "text/plain": [
       "<Figure size 720x432 with 1 Axes>"
      ]
     },
     "metadata": {
      "needs_background": "light"
     },
     "output_type": "display_data"
    }
   ],
   "source": [
    "# plot the training and validation accuracy\n",
    "epochs = range(1, len(accuracy)+1)\n",
    "\n",
    "fig2 = plt.figure(figsize=(10,6))\n",
    "plt.plot(epochs,accuracy,c=\"red\",label=\"Training\")\n",
    "plt.plot(epochs,validation_accuracy,c=\"blue\",label=\"Validation\")\n",
    "plt.xlabel(\"Epochs\")\n",
    "plt.ylabel(\"Accuracy\")\n",
    "plt.xticks(epochs)\n",
    "plt.legend()"
   ]
  },
  {
   "cell_type": "code",
   "execution_count": 20,
   "metadata": {},
   "outputs": [
    {
     "name": "stdout",
     "output_type": "stream",
     "text": [
      "Garbage\n"
     ]
    }
   ],
   "source": [
    "from IPython.display import Image\n",
    "from keras.preprocessing import image\n",
    "import tensorflow\n",
    "img_path = 'C:/Users/Arpit/Desktop/Project/Datasets/Custom/test/garbage-queried-images/img26.jpg'\n",
    "test_image = image.load_img(img_path, target_size = [128,128])\n",
    "test_image = image.img_to_array(test_image)\n",
    "test_image = np.expand_dims(test_image, axis = 0)\n",
    "result = model.predict(test_image)\n",
    "if result[0][0]>result[0][1]:\n",
    "    print(\"Garbage\")\n",
    "else:\n",
    "    print(\"Non-Garbage\")"
   ]
  },
  {
   "cell_type": "code",
   "execution_count": null,
   "metadata": {},
   "outputs": [],
   "source": []
  }
 ],
 "metadata": {
  "kernelspec": {
   "display_name": "Python 3",
   "language": "python",
   "name": "python3"
  },
  "language_info": {
   "codemirror_mode": {
    "name": "ipython",
    "version": 3
   },
   "file_extension": ".py",
   "mimetype": "text/x-python",
   "name": "python",
   "nbconvert_exporter": "python",
   "pygments_lexer": "ipython3",
   "version": "3.8.5"
  }
 },
 "nbformat": 4,
 "nbformat_minor": 4
}
