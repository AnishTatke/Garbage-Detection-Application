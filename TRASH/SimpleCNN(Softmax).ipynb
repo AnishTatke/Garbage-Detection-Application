{
 "cells": [
  {
   "cell_type": "code",
   "execution_count": 1,
   "metadata": {},
   "outputs": [],
   "source": [
    "import tensorflow as tf\n",
    "from tensorflow.keras.models import Sequential\n",
    "from tensorflow.keras.layers import Dense, Dropout, Activation, Flatten, Conv2D, MaxPooling2D\n",
    "import time\n",
    "from tensorflow.keras.callbacks import TensorBoard\n",
    "from keras.preprocessing import image\n",
    "from keras.preprocessing.image import ImageDataGenerator\n",
    "physical_devices = tf.config.list_physical_devices('GPU')\n",
    "tf.config.experimental.set_memory_growth(physical_devices[0], True)"
   ]
  },
  {
   "cell_type": "code",
   "execution_count": 2,
   "metadata": {},
   "outputs": [
    {
     "name": "stdout",
     "output_type": "stream",
     "text": [
      "Found 3648 images belonging to 2 classes.\n",
      "Found 1041 images belonging to 2 classes.\n"
     ]
    }
   ],
   "source": [
    "train_path = 'C:/Users/Arpit/Desktop/Project/Datasets/Custom/train'\n",
    "valid_path = 'C:/Users/Arpit/Desktop/Project/Datasets/Custom/val'\n",
    "\n",
    "train_datagen = ImageDataGenerator(rescale = 1./255,\n",
    "                                   shear_range = 0.2,\n",
    "                                   zoom_range = 0.2,\n",
    "                                   horizontal_flip = True)\n",
    "val_datagen = ImageDataGenerator(rescale = 1./255)\n",
    "training_set = train_datagen.flow_from_directory(train_path,\n",
    "                                                 target_size = (64, 64),\n",
    "                                                 batch_size = 32,\n",
    "                                                 class_mode = 'categorical')\n",
    "val_set = val_datagen.flow_from_directory(valid_path,\n",
    "                                         target_size = (64, 64),\n",
    "                                         batch_size = 32,\n",
    "                                         class_mode = 'categorical')"
   ]
  },
  {
   "cell_type": "code",
   "execution_count": 3,
   "metadata": {},
   "outputs": [],
   "source": [
    "model = Sequential()\n",
    "\n",
    "model.add(Conv2D(filters=32, kernel_size=3, activation='relu', input_shape=[64, 64, 3]))\n",
    "model.add(Activation('relu'))\n",
    "model.add(MaxPooling2D(pool_size = (2, 2)))\n",
    "\n",
    "model.add(Conv2D(64, (3, 3))) \n",
    "model.add(Activation('relu'))\n",
    "model.add(MaxPooling2D(pool_size = (2, 2)))\n",
    "\n",
    "model.add(Flatten())\n",
    "\n",
    "model.add(Dense(128))\n",
    "model.add(Activation('relu'))\n",
    "\n",
    "model.add(Dense(32))\n",
    "model.add(Activation('relu'))\n",
    "\n",
    "model.add(Dense(2))\n",
    "model.add(Activation('softmax'))"
   ]
  },
  {
   "cell_type": "code",
   "execution_count": 4,
   "metadata": {},
   "outputs": [
    {
     "name": "stdout",
     "output_type": "stream",
     "text": [
      "Model: \"sequential\"\n",
      "_________________________________________________________________\n",
      "Layer (type)                 Output Shape              Param #   \n",
      "=================================================================\n",
      "conv2d (Conv2D)              (None, 62, 62, 32)        896       \n",
      "_________________________________________________________________\n",
      "activation (Activation)      (None, 62, 62, 32)        0         \n",
      "_________________________________________________________________\n",
      "max_pooling2d (MaxPooling2D) (None, 31, 31, 32)        0         \n",
      "_________________________________________________________________\n",
      "conv2d_1 (Conv2D)            (None, 29, 29, 64)        18496     \n",
      "_________________________________________________________________\n",
      "activation_1 (Activation)    (None, 29, 29, 64)        0         \n",
      "_________________________________________________________________\n",
      "max_pooling2d_1 (MaxPooling2 (None, 14, 14, 64)        0         \n",
      "_________________________________________________________________\n",
      "flatten (Flatten)            (None, 12544)             0         \n",
      "_________________________________________________________________\n",
      "dense (Dense)                (None, 128)               1605760   \n",
      "_________________________________________________________________\n",
      "activation_2 (Activation)    (None, 128)               0         \n",
      "_________________________________________________________________\n",
      "dense_1 (Dense)              (None, 32)                4128      \n",
      "_________________________________________________________________\n",
      "activation_3 (Activation)    (None, 32)                0         \n",
      "_________________________________________________________________\n",
      "dense_2 (Dense)              (None, 2)                 66        \n",
      "_________________________________________________________________\n",
      "activation_4 (Activation)    (None, 2)                 0         \n",
      "=================================================================\n",
      "Total params: 1,629,346\n",
      "Trainable params: 1,629,346\n",
      "Non-trainable params: 0\n",
      "_________________________________________________________________\n"
     ]
    }
   ],
   "source": [
    "model.summary()"
   ]
  },
  {
   "cell_type": "code",
   "execution_count": 5,
   "metadata": {},
   "outputs": [],
   "source": [
    "model.compile(loss = 'categorical_crossentropy', optimizer = 'adam', metrics = ['accuracy'])"
   ]
  },
  {
   "cell_type": "code",
   "execution_count": 7,
   "metadata": {},
   "outputs": [
    {
     "name": "stdout",
     "output_type": "stream",
     "text": [
      "Epoch 1/30\n",
      "114/114 - 282s - loss: 0.4837 - accuracy: 0.7930 - val_loss: 0.4965 - val_accuracy: 0.7983\n",
      "Epoch 2/30\n",
      "114/114 - 246s - loss: 0.4109 - accuracy: 0.8369 - val_loss: 0.3825 - val_accuracy: 0.8482\n",
      "Epoch 3/30\n",
      "114/114 - 235s - loss: 0.3808 - accuracy: 0.8459 - val_loss: 0.3529 - val_accuracy: 0.8540\n",
      "Epoch 4/30\n",
      "114/114 - 233s - loss: 0.3603 - accuracy: 0.8553 - val_loss: 0.3263 - val_accuracy: 0.8607\n",
      "Epoch 5/30\n",
      "114/114 - 280s - loss: 0.3354 - accuracy: 0.8591 - val_loss: 0.7328 - val_accuracy: 0.5591\n",
      "Epoch 6/30\n",
      "114/114 - 247s - loss: 0.3387 - accuracy: 0.8646 - val_loss: 0.3535 - val_accuracy: 0.8386\n",
      "Epoch 7/30\n",
      "114/114 - 247s - loss: 0.3112 - accuracy: 0.8734 - val_loss: 0.5122 - val_accuracy: 0.7243\n",
      "Epoch 8/30\n",
      "114/114 - 248s - loss: 0.3027 - accuracy: 0.8829 - val_loss: 0.3367 - val_accuracy: 0.8549\n",
      "Epoch 9/30\n",
      "114/114 - 232s - loss: 0.2736 - accuracy: 0.8906 - val_loss: 0.3725 - val_accuracy: 0.8425\n",
      "Epoch 10/30\n",
      "114/114 - 235s - loss: 0.2659 - accuracy: 0.8999 - val_loss: 0.3202 - val_accuracy: 0.8780\n",
      "Epoch 11/30\n",
      "114/114 - 231s - loss: 0.2429 - accuracy: 0.9084 - val_loss: 0.3904 - val_accuracy: 0.8463\n",
      "Epoch 12/30\n",
      "114/114 - 234s - loss: 0.2239 - accuracy: 0.9167 - val_loss: 0.2429 - val_accuracy: 0.9039\n",
      "Epoch 13/30\n",
      "114/114 - 233s - loss: 0.2427 - accuracy: 0.9057 - val_loss: 0.2660 - val_accuracy: 0.9039\n",
      "Epoch 14/30\n",
      "114/114 - 236s - loss: 0.1989 - accuracy: 0.9208 - val_loss: 0.3002 - val_accuracy: 0.8799\n",
      "Epoch 15/30\n",
      "114/114 - 414s - loss: 0.1948 - accuracy: 0.9252 - val_loss: 0.3301 - val_accuracy: 0.8751\n",
      "Epoch 16/30\n",
      "114/114 - 348s - loss: 0.1985 - accuracy: 0.9249 - val_loss: 0.2604 - val_accuracy: 0.9049\n",
      "Epoch 17/30\n",
      "114/114 - 321s - loss: 0.1778 - accuracy: 0.9331 - val_loss: 0.3667 - val_accuracy: 0.8646\n",
      "Epoch 18/30\n",
      "114/114 - 312s - loss: 0.1599 - accuracy: 0.9370 - val_loss: 0.3333 - val_accuracy: 0.8857\n",
      "Epoch 19/30\n",
      "114/114 - 313s - loss: 0.1470 - accuracy: 0.9435 - val_loss: 0.3439 - val_accuracy: 0.8761\n",
      "Epoch 20/30\n",
      "114/114 - 307s - loss: 0.1466 - accuracy: 0.9446 - val_loss: 0.7112 - val_accuracy: 0.7791\n",
      "Epoch 21/30\n",
      "114/114 - 301s - loss: 0.1457 - accuracy: 0.9430 - val_loss: 0.3092 - val_accuracy: 0.8963\n",
      "Epoch 22/30\n",
      "114/114 - 290s - loss: 0.1363 - accuracy: 0.9496 - val_loss: 0.2747 - val_accuracy: 0.9087\n",
      "Epoch 23/30\n",
      "114/114 - 282s - loss: 0.1295 - accuracy: 0.9501 - val_loss: 0.2409 - val_accuracy: 0.9222\n",
      "Epoch 24/30\n",
      "114/114 - 295s - loss: 0.1213 - accuracy: 0.9529 - val_loss: 0.3130 - val_accuracy: 0.8953\n",
      "Epoch 25/30\n",
      "114/114 - 288s - loss: 0.1058 - accuracy: 0.9597 - val_loss: 0.2805 - val_accuracy: 0.9059\n",
      "Epoch 26/30\n",
      "114/114 - 309s - loss: 0.1066 - accuracy: 0.9611 - val_loss: 0.2672 - val_accuracy: 0.9078\n",
      "Epoch 27/30\n",
      "114/114 - 273s - loss: 0.1114 - accuracy: 0.9581 - val_loss: 0.2604 - val_accuracy: 0.9155\n",
      "Epoch 28/30\n",
      "114/114 - 266s - loss: 0.0800 - accuracy: 0.9685 - val_loss: 0.3061 - val_accuracy: 0.9059\n",
      "Epoch 29/30\n",
      "114/114 - 256s - loss: 0.0921 - accuracy: 0.9635 - val_loss: 0.3146 - val_accuracy: 0.9107\n",
      "Epoch 30/30\n",
      "114/114 - 259s - loss: 0.0824 - accuracy: 0.9693 - val_loss: 0.2977 - val_accuracy: 0.9068\n"
     ]
    }
   ],
   "source": [
    "model_details=model.fit(x=training_set, validation_data=val_set, batch_size = 32, epochs = 30, verbose = 2,steps_per_epoch=len(training_set),validation_steps=len(val_set))"
   ]
  },
  {
   "cell_type": "code",
   "execution_count": 8,
   "metadata": {},
   "outputs": [],
   "source": [
    "loss = model_details.history['loss']\n",
    "validation_loss = model_details.history['val_loss']"
   ]
  },
  {
   "cell_type": "code",
   "execution_count": 9,
   "metadata": {},
   "outputs": [],
   "source": [
    "accuracy = model_details.history['accuracy']\n",
    "validation_accuracy = model_details.history['val_accuracy']"
   ]
  },
  {
   "cell_type": "code",
   "execution_count": 10,
   "metadata": {},
   "outputs": [],
   "source": [
    "import matplotlib.pyplot as plt\n",
    "%matplotlib inline"
   ]
  },
  {
   "cell_type": "code",
   "execution_count": 11,
   "metadata": {},
   "outputs": [
    {
     "data": {
      "text/plain": [
       "<matplotlib.legend.Legend at 0x2516fa52460>"
      ]
     },
     "execution_count": 11,
     "metadata": {},
     "output_type": "execute_result"
    },
    {
     "data": {
      "image/png": "[encoded data removed]",
      "text/plain": [
       "<Figure size 720x432 with 1 Axes>"
      ]
     },
     "metadata": {
      "needs_background": "light"
     },
     "output_type": "display_data"
    }
   ],
   "source": [
    "# plot the training and validation losses\n",
    "epochs = range(1, len(loss)+1)\n",
    "\n",
    "fig1 = plt.figure(figsize=(10,6))\n",
    "plt.plot(epochs,loss,c=\"red\",label=\"Training\")\n",
    "plt.plot(epochs,validation_loss,c=\"blue\",label=\"Validation\")\n",
    "plt.xlabel(\"Epochs\")\n",
    "plt.ylabel(\"Loss\")\n",
    "plt.xticks(epochs)\n",
    "plt.legend()"
   ]
  },
  {
   "cell_type": "code",
   "execution_count": 12,
   "metadata": {},
   "outputs": [
    {
     "data": {
      "text/plain": [
       "<matplotlib.legend.Legend at 0x25175a22130>"
      ]
     },
     "execution_count": 12,
     "metadata": {},
     "output_type": "execute_result"
    },
    {
     "data": {
      "image/png": "[encoded data removed]",
      "text/plain": [
       "<Figure size 720x432 with 1 Axes>"
      ]
     },
     "metadata": {
      "needs_background": "light"
     },
     "output_type": "display_data"
    }
   ],
   "source": [
    "# plot the training and validation accuracy\n",
    "epochs = range(1, len(accuracy)+1)\n",
    "\n",
    "fig2 = plt.figure(figsize=(10,6))\n",
    "plt.plot(epochs,accuracy,c=\"red\",label=\"Training\")\n",
    "plt.plot(epochs,validation_accuracy,c=\"blue\",label=\"Validation\")\n",
    "plt.xlabel(\"Epochs\")\n",
    "plt.ylabel(\"Accuracy\")\n",
    "plt.xticks(epochs)\n",
    "plt.legend()"
   ]
  },
  {
   "cell_type": "code",
   "execution_count": 14,
   "metadata": {},
   "outputs": [
    {
     "name": "stdout",
     "output_type": "stream",
     "text": [
      "Non-Garbage\n"
     ]
    }
   ],
   "source": [
    "import numpy as np\n",
    "from keras.preprocessing import image\n",
    "img_path = 'C:/Users/Arpit/Desktop/Project/Datasets/Custom/test/non-garbage-queried-images/mouseimg.jpeg'\n",
    "test_image = image.load_img(img_path, target_size = (64, 64))\n",
    "test_image = image.img_to_array(test_image)\n",
    "test_image = np.expand_dims(test_image, axis = 0)\n",
    "result = model.predict(test_image)\n",
    "training_set.class_indices\n",
    "if result[0][0]>result[0][1]:\n",
    "  print(\"Garbage\")\n",
    "else:\n",
    "  print(\"Non-Garbage\")"
   ]
  },
  {
   "cell_type": "code",
   "execution_count": null,
   "metadata": {},
   "outputs": [],
   "source": []
  }
 ],
 "metadata": {
  "kernelspec": {
   "display_name": "Python 3",
   "language": "python",
   "name": "python3"
  },
  "language_info": {
   "codemirror_mode": {
    "name": "ipython",
    "version": 3
   },
   "file_extension": ".py",
   "mimetype": "text/x-python",
   "name": "python",
   "nbconvert_exporter": "python",
   "pygments_lexer": "ipython3",
   "version": "3.8.8"
  }
 },
 "nbformat": 4,
 "nbformat_minor": 4
}
